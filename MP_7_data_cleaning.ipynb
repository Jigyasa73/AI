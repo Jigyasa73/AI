{
  "cells": [
    {
      "cell_type": "code",
      "execution_count": 1,
      "metadata": {
        "colab": {
          "base_uri": "https://localhost:8080/"
        },
        "id": "gBV58rY0XPnr",
        "outputId": "0f4ac2d5-fb43-4d96-fdf3-93795533a5b7"
      },
      "outputs": [
        {
          "ename": "ModuleNotFoundError",
          "evalue": "No module named 'google.colab'",
          "output_type": "error",
          "traceback": [
            "\u001b[1;31m---------------------------------------------------------------------------\u001b[0m",
            "\u001b[1;31mModuleNotFoundError\u001b[0m                       Traceback (most recent call last)",
            "Cell \u001b[1;32mIn[1], line 1\u001b[0m\n\u001b[1;32m----> 1\u001b[0m \u001b[38;5;28;01mfrom\u001b[39;00m \u001b[38;5;21;01mgoogle\u001b[39;00m\u001b[38;5;21;01m.\u001b[39;00m\u001b[38;5;21;01mcolab\u001b[39;00m \u001b[38;5;28;01mimport\u001b[39;00m drive\n\u001b[0;32m      2\u001b[0m drive\u001b[38;5;241m.\u001b[39mmount(\u001b[38;5;124m'\u001b[39m\u001b[38;5;124m/content/drive\u001b[39m\u001b[38;5;124m'\u001b[39m)\n",
            "\u001b[1;31mModuleNotFoundError\u001b[0m: No module named 'google.colab'"
          ]
        }
      ],
      "source": [
        "from google.colab import drive\n",
        "drive.mount('/content/drive')"
      ]
    },
    {
      "cell_type": "code",
      "execution_count": 4,
      "metadata": {
        "id": "V2_pVRNiW0VQ"
      },
      "outputs": [],
      "source": [
        "import pandas as pd\n",
        "df=pd.read_csv('train_data.csv')"
      ]
    },
    {
      "cell_type": "code",
      "execution_count": 5,
      "metadata": {
        "id": "xZzFJrKxW0VT",
        "outputId": "c67a95aa-2242-48bb-d59f-e9c697ffae5d"
      },
      "outputs": [
        {
          "data": {
            "text/html": [
              "<div>\n",
              "<style scoped>\n",
              "    .dataframe tbody tr th:only-of-type {\n",
              "        vertical-align: middle;\n",
              "    }\n",
              "\n",
              "    .dataframe tbody tr th {\n",
              "        vertical-align: top;\n",
              "    }\n",
              "\n",
              "    .dataframe thead th {\n",
              "        text-align: right;\n",
              "    }\n",
              "</style>\n",
              "<table border=\"1\" class=\"dataframe\">\n",
              "  <thead>\n",
              "    <tr style=\"text-align: right;\">\n",
              "      <th></th>\n",
              "      <th>author</th>\n",
              "      <th>published_at</th>\n",
              "      <th>updated_at</th>\n",
              "      <th>like_count</th>\n",
              "      <th>comments</th>\n",
              "    </tr>\n",
              "  </thead>\n",
              "  <tbody>\n",
              "    <tr>\n",
              "      <th>0</th>\n",
              "      <td>@patpatpat1336</td>\n",
              "      <td>2024-09-07T02:22:01Z</td>\n",
              "      <td>2024-09-07T02:22:01Z</td>\n",
              "      <td>0</td>\n",
              "      <td>I&amp;#39;ve been playing clash of clans since it ...</td>\n",
              "    </tr>\n",
              "    <tr>\n",
              "      <th>1</th>\n",
              "      <td>@bewarethechameleon</td>\n",
              "      <td>2023-08-31T16:48:29Z</td>\n",
              "      <td>2023-08-31T16:48:29Z</td>\n",
              "      <td>0</td>\n",
              "      <td>the first 10 things .... players hate video, h...</td>\n",
              "    </tr>\n",
              "    <tr>\n",
              "      <th>2</th>\n",
              "      <td>@smiley6229</td>\n",
              "      <td>2023-06-05T10:28:46Z</td>\n",
              "      <td>2023-06-05T10:28:46Z</td>\n",
              "      <td>1</td>\n",
              "      <td>When it’s 2015 and you don’t have the builder ...</td>\n",
              "    </tr>\n",
              "    <tr>\n",
              "      <th>3</th>\n",
              "      <td>@mayankkumar1011</td>\n",
              "      <td>2023-05-29T18:48:43Z</td>\n",
              "      <td>2023-05-29T18:48:43Z</td>\n",
              "      <td>0</td>\n",
              "      <td>Played age of empires castle siege....having s...</td>\n",
              "    </tr>\n",
              "    <tr>\n",
              "      <th>4</th>\n",
              "      <td>@puuikien5866</td>\n",
              "      <td>2023-02-04T00:07:36Z</td>\n",
              "      <td>2023-02-04T00:07:36Z</td>\n",
              "      <td>0</td>\n",
              "      <td>HAHAHHAHAHAHBHAHABH THE SS ONE SO RELATAVLEOMG...</td>\n",
              "    </tr>\n",
              "  </tbody>\n",
              "</table>\n",
              "</div>"
            ],
            "text/plain": [
              "                author          published_at            updated_at  \\\n",
              "0       @patpatpat1336  2024-09-07T02:22:01Z  2024-09-07T02:22:01Z   \n",
              "1  @bewarethechameleon  2023-08-31T16:48:29Z  2023-08-31T16:48:29Z   \n",
              "2          @smiley6229  2023-06-05T10:28:46Z  2023-06-05T10:28:46Z   \n",
              "3     @mayankkumar1011  2023-05-29T18:48:43Z  2023-05-29T18:48:43Z   \n",
              "4        @puuikien5866  2023-02-04T00:07:36Z  2023-02-04T00:07:36Z   \n",
              "\n",
              "   like_count                                           comments  \n",
              "0           0  I&#39;ve been playing clash of clans since it ...  \n",
              "1           0  the first 10 things .... players hate video, h...  \n",
              "2           1  When it’s 2015 and you don’t have the builder ...  \n",
              "3           0  Played age of empires castle siege....having s...  \n",
              "4           0  HAHAHHAHAHAHBHAHABH THE SS ONE SO RELATAVLEOMG...  "
            ]
          },
          "execution_count": 5,
          "metadata": {},
          "output_type": "execute_result"
        }
      ],
      "source": [
        "df.head()"
      ]
    },
    {
      "cell_type": "markdown",
      "metadata": {
        "id": "TAbFKMqeW0VU"
      },
      "source": [
        "Initial Sentiment\n"
      ]
    },
    {
      "cell_type": "code",
      "execution_count": 7,
      "metadata": {
        "id": "4FY1dFCZW0VX"
      },
      "outputs": [],
      "source": [
        "from textblob import TextBlob\n",
        "\n",
        "def get_sentiment(text):\n",
        "    analysis = TextBlob(text)\n",
        "    # Classify sentiment\n",
        "    if analysis.sentiment.polarity > 0:\n",
        "        return 1  # positive\n",
        "    elif analysis.sentiment.polarity == 0:\n",
        "        return 0  # neutral\n",
        "    else:\n",
        "        return -1  # negative\n",
        "\n",
        "df['sentiment'] = df['comments'].apply(get_sentiment)\n"
      ]
    },
    {
      "cell_type": "markdown",
      "metadata": {
        "id": "errBc9zxW0VZ"
      },
      "source": [
        "LowerCasing"
      ]
    },
    {
      "cell_type": "code",
      "execution_count": 8,
      "metadata": {
        "id": "g-Au5auJW0VZ"
      },
      "outputs": [],
      "source": [
        "df['comments'] = df['comments'].str.lower()\n"
      ]
    },
    {
      "cell_type": "markdown",
      "metadata": {
        "id": "bQSn-swOW0Vb"
      },
      "source": [
        "remove punctuation"
      ]
    },
    {
      "cell_type": "code",
      "execution_count": 9,
      "metadata": {
        "id": "HCcCbFqtW0Vb"
      },
      "outputs": [],
      "source": [
        "df['comments'] = df['comments'].str.replace(r'[^\\w\\s]', '', regex=True)"
      ]
    },
    {
      "cell_type": "markdown",
      "metadata": {
        "id": "ELuh3_RWW0Vc"
      },
      "source": [
        "URL,Mention,Markdown removal"
      ]
    },
    {
      "cell_type": "code",
      "execution_count": 10,
      "metadata": {
        "id": "NmeeDSzMW0Vd"
      },
      "outputs": [],
      "source": [
        "import re\n",
        "def clean_text(text):\n",
        "    text = re.sub(r'http\\S+', '', text)  # Remove URLs\n",
        "    text = re.sub(r'@\\w+', '', text)     # Remove mentions\n",
        "    text = re.sub(r'#\\w+', '', text)     # Remove hashtags\n",
        "    text = re.sub(r'\\d+', '', text)      # Remove numbers\n",
        "    return text\n",
        "\n",
        "df['comments'] = df['comments'].apply(clean_text)\n"
      ]
    },
    {
      "cell_type": "markdown",
      "metadata": {
        "id": "qzvGEwSLW0Vf"
      },
      "source": [
        "Stopwords Removal"
      ]
    },
    {
      "cell_type": "code",
      "execution_count": 11,
      "metadata": {
        "id": "qauAx-fnW0Vg"
      },
      "outputs": [],
      "source": [
        "from nltk.corpus import stopwords\n",
        "stop = stopwords.words('english')\n",
        "df['comments'] = df['comments'].apply(lambda x: ' '.join([word for word in x.split() if word not in (stop)]))\n"
      ]
    },
    {
      "cell_type": "markdown",
      "metadata": {
        "id": "iJyEgC_MW0Vg"
      },
      "source": [
        "Negative word removal"
      ]
    },
    {
      "cell_type": "code",
      "execution_count": 12,
      "metadata": {
        "id": "9wvsPEKxW0Vh"
      },
      "outputs": [],
      "source": [
        "from nltk.tokenize import word_tokenize\n",
        "\n",
        "def handle_negation(text):\n",
        "    tokens = word_tokenize(text)\n",
        "    negation_flag = False\n",
        "    handled_tokens = []\n",
        "\n",
        "    for token in tokens:\n",
        "        if token in ['not', 'no', 'never']:\n",
        "            negation_flag = True\n",
        "        elif negation_flag:\n",
        "            handled_tokens.append('not_' + token)\n",
        "            negation_flag = False\n",
        "        else:\n",
        "            handled_tokens.append(token)\n",
        "\n",
        "    return ' '.join(handled_tokens)\n",
        "\n",
        "df['comments'] = df['comments'].apply(handle_negation)"
      ]
    },
    {
      "cell_type": "markdown",
      "metadata": {
        "id": "AlYZGj0rW0Vi"
      },
      "source": [
        "Tokenize"
      ]
    },
    {
      "cell_type": "code",
      "execution_count": 13,
      "metadata": {
        "id": "bIzbh2jHW0Vj"
      },
      "outputs": [],
      "source": [
        "from nltk.tokenize import word_tokenize\n",
        "df['comments'] = df['comments'].apply(word_tokenize)\n"
      ]
    },
    {
      "cell_type": "markdown",
      "metadata": {
        "id": "4cxWoU72W0Vl"
      },
      "source": [
        "Lemmatization"
      ]
    },
    {
      "cell_type": "code",
      "execution_count": 14,
      "metadata": {
        "id": "9Bo0Hh9EW0Vl"
      },
      "outputs": [],
      "source": [
        "from nltk.stem import WordNetLemmatizer\n",
        "\n",
        "lemmatizer = WordNetLemmatizer()\n",
        "df['comments'] = df['comments'].apply(lambda x: [lemmatizer.lemmatize(word) for word in x])\n",
        "df['comments'] = df['comments'].apply(lambda x: ' '.join(x))\n"
      ]
    },
    {
      "cell_type": "code",
      "execution_count": 15,
      "metadata": {
        "id": "C_X-YPlXW0Vm"
      },
      "outputs": [],
      "source": [
        "df.to_csv('final_train_clean_data.csv', index=False)"
      ]
    },
    {
      "cell_type": "markdown",
      "metadata": {
        "id": "Y7oA8IK2W0Vn"
      },
      "source": [
        "\n",
        "Vectorization"
      ]
    },
    {
      "cell_type": "code",
      "execution_count": 16,
      "metadata": {
        "id": "tRu5C_qyW0Vn"
      },
      "outputs": [],
      "source": [
        "from sklearn.feature_extraction.text import TfidfVectorizer\n",
        "\n",
        "tfidf = TfidfVectorizer(max_features=5000)\n",
        "X = tfidf.fit_transform(df['comments'])\n"
      ]
    },
    {
      "cell_type": "markdown",
      "metadata": {
        "id": "YQwhj_C_W0Vo"
      },
      "source": [
        "Train_test_Split"
      ]
    },
    {
      "cell_type": "code",
      "execution_count": 17,
      "metadata": {
        "id": "YAstPEw5W0Vo"
      },
      "outputs": [],
      "source": [
        "from sklearn.model_selection import train_test_split\n",
        "\n",
        "X_train, X_test, y_train, y_test = train_test_split(X, df['sentiment'], test_size=0.2, random_state=42)\n"
      ]
    },
    {
      "cell_type": "code",
      "execution_count": null,
      "metadata": {},
      "outputs": [],
      "source": []
    },
    {
      "cell_type": "code",
      "execution_count": null,
      "metadata": {},
      "outputs": [],
      "source": []
    },
    {
      "cell_type": "code",
      "execution_count": null,
      "metadata": {},
      "outputs": [],
      "source": []
    },
    {
      "cell_type": "code",
      "execution_count": null,
      "metadata": {},
      "outputs": [],
      "source": []
    },
    {
      "cell_type": "code",
      "execution_count": null,
      "metadata": {},
      "outputs": [],
      "source": []
    }
  ],
  "metadata": {
    "colab": {
      "provenance": []
    },
    "kernelspec": {
      "display_name": "Python 3",
      "language": "python",
      "name": "python3"
    },
    "language_info": {
      "codemirror_mode": {
        "name": "ipython",
        "version": 3
      },
      "file_extension": ".py",
      "mimetype": "text/x-python",
      "name": "python",
      "nbconvert_exporter": "python",
      "pygments_lexer": "ipython3",
      "version": "3.11.2"
    }
  },
  "nbformat": 4,
  "nbformat_minor": 0
}
